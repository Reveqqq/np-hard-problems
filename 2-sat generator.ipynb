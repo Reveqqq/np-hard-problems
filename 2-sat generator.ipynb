{
 "cells": [
  {
   "cell_type": "code",
   "execution_count": 10,
   "metadata": {},
   "outputs": [
    {
     "name": "stdout",
     "output_type": "stream",
     "text": [
      "10\n",
      "-6 1\n",
      "-11 9\n",
      "8 10\n",
      "11 -6\n",
      "6 -3\n",
      "-8 -8\n",
      "3 7\n",
      "-1 5\n",
      "1 -12\n",
      "-11 -5\n"
     ]
    }
   ],
   "source": [
    "import random\n",
    "\n",
    "def generate_2sat_input(n_vars: int, m_clauses: int):\n",
    "    print(m_clauses)  # Number of clauses\n",
    "    \n",
    "    for _ in range(m_clauses):\n",
    "        # Randomly choose two variables\n",
    "        var1 = random.randint(1, n_vars)\n",
    "        var2 = random.randint(1, n_vars)\n",
    "        \n",
    "        # Randomly decide if each variable is negated or not\n",
    "        lit1 = var1 if random.choice([True, False]) else -var1\n",
    "        lit2 = var2 if random.choice([True, False]) else -var2\n",
    "        \n",
    "        # Print the clause\n",
    "        lit1_w = 'true' if lit1 > 0  else 'false'\n",
    "        lit2_w = 'true' if lit2 > 0  else 'false'\n",
    "        # print(f'{lit1}, {lit1_w}, {lit2}, {lit2_w}')\n",
    "        print(lit1, lit2)\n",
    "\n",
    "# Example: Generate input for a 2-SAT problem with 3 variables and 4 clauses\n",
    "generate_2sat_input(12, 10)\n"
   ]
  }
 ],
 "metadata": {
  "kernelspec": {
   "display_name": "Python 3",
   "language": "python",
   "name": "python3"
  },
  "language_info": {
   "codemirror_mode": {
    "name": "ipython",
    "version": 3
   },
   "file_extension": ".py",
   "mimetype": "text/x-python",
   "name": "python",
   "nbconvert_exporter": "python",
   "pygments_lexer": "ipython3",
   "version": "3.12.2"
  }
 },
 "nbformat": 4,
 "nbformat_minor": 2
}
